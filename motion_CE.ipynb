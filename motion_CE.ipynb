{
 "cells": [
  {
   "cell_type": "markdown",
   "metadata": {},
   "source": [
    "# Идея\n",
    "\n",
    "$$F(t) = m \\cdot x'' + 2 \\cdot m \\cdot \\delta \\cdot x' + w_0^2 \\cdot m \\cdot x $$\n",
    "\n",
    "где F(t) — сила(пусть пока известная и константная, например $sin(\\Omega t)$.\n",
    "\n",
    "У такого маятника решение описано [тут](https://mipt.ru/education/chair/physics/S_I/method/Meh_col.pdf) в части 3.3.\n",
    "\n",
    "Пусть мы знаем фазу и амплитуду реальной системы (формула 31 на стр. 25) и мы хотим настроить параметры $\\delta$ и $m$ так чтобы они совпадали для нашей системы и симулятора.\n",
    "\n",
    "Тогда контроллер принимает следующие вещи: ($\\Omega$, $t$, $m$, $\\delta$, $w_0$, $x$, $x'$), а выдаёт ($m$, $\\delta$), которые бы минимизировали разницу фазы и амплитуды между реальной системой и симулятором."
   ]
  },
  {
   "cell_type": "code",
   "execution_count": 1,
   "metadata": {},
   "outputs": [],
   "source": [
    "%matplotlib inline\n",
    "import numpy as np, matplotlib.pyplot as plt, glob, os\n",
    "import random\n",
    "import torch\n",
    "from collections import deque\n",
    "\n",
    "import gym\n",
    "from gym import error, spaces, utils\n",
    "from gym.utils import seeding"
   ]
  },
  {
   "cell_type": "code",
   "execution_count": 2,
   "metadata": {},
   "outputs": [],
   "source": [
    "from ddpg_agent import Agent"
   ]
  },
  {
   "cell_type": "markdown",
   "metadata": {},
   "source": [
    "### Env"
   ]
  },
  {
   "cell_type": "code",
   "execution_count": 3,
   "metadata": {},
   "outputs": [],
   "source": [
    "class PendulumEnv(gym.Env):\n",
    "    def __init__(self, big_b=1, big_omega=1, theta=0,\n",
    "                 m=1, k=0.1, beta=0.02, big_f_0=1,\n",
    "                 n_steps=100, t_min=0, t_max=10):\n",
    "        \"\"\"\n",
    "        Args:\n",
    "            big_b (float): амплитуда.\n",
    "            big_omega (float): частота.\n",
    "            theta (float): фаза.\n",
    "            m (float): масса грузика.\n",
    "            k (float): жесткость пружины. \n",
    "            beta (float): коэф сопротивления среды.\n",
    "            big_f_0 (float): ????.\n",
    "            n_steps (int): количество шагов до завершения среды.\n",
    "            t_min, t_max (float): min and max time.\n",
    "        \"\"\"\n",
    "        \n",
    "        # init\n",
    "        self.initial_params = locals().copy()\n",
    "        del self.initial_params['self']\n",
    "        \n",
    "        # system params\n",
    "        self.big_b = big_b\n",
    "        self.big_omega = big_omega\n",
    "        self.theta = theta\n",
    "        self.m = m\n",
    "        self.k = k\n",
    "        self.beta = beta\n",
    "        self.big_f_0 = big_f_0\n",
    "        \n",
    "        self.delta = self.beta / (2 * self.m)\n",
    "        self.omega_0 = self.k / self.m\n",
    "        \n",
    "        # RL params\n",
    "        self.n_steps = n_steps\n",
    "        self.t_min, self.t_max = t_min, t_max\n",
    "        self._randomize_t()\n",
    "        self.i = 0\n",
    "        self.state_space = self._dc_input().shape[0]\n",
    "        self.observation_space = spaces.Box(low=-10, high=10, shape=(self.state_space,), dtype=np.float32)\n",
    "        # m, delta, big_omega\n",
    "        self.action_space = spaces.Box(np.array([0,-2,-.1]), np.array([+10,+2,+.1]), dtype=np.float32)\n",
    "\n",
    "        \n",
    "    def _system(self, t=None):\n",
    "        \"\"\"Returns the real system position (f.31).\"\"\"\n",
    "        if t is None:\n",
    "            t = self.t\n",
    "        return self.big_b * np.cos(self.big_omega * t - self.theta)\n",
    "    \n",
    "    def _x(self, t):\n",
    "        return self._system(t)\n",
    "    \n",
    "    def _x_first_deriv(self, t):\n",
    "        return - self.big_b * self.big_omega * np.sin(self.big_omega * t - self.theta)\n",
    "    \n",
    "    def _x_second_deriv(self, t):\n",
    "        return - self.big_b * (self.big_omega**2) * np.cos(self.big_omega * t - self.theta)\n",
    "    \n",
    "    def _system_model(self, m, delta, big_omega, t=None):\n",
    "        \"\"\"Returns the model position.\"\"\"\n",
    "        if t is None:\n",
    "            t = self.t\n",
    "        big_b = self._big_b_model(m, delta, big_omega)\n",
    "        theta = self._theta_model(m, delta, big_omega)\n",
    "        return big_b * np.cos(big_omega * t - theta)\n",
    "    \n",
    "    def _dc_input(self, t=None):\n",
    "        if t is None:\n",
    "            t = self.t\n",
    "#         return np.array([\n",
    "# #             self.big_omega,\n",
    "#             t,\n",
    "# #             self.m,\n",
    "# #             self.delta,\n",
    "#             self.omega_0,\n",
    "#             self._x(t),\n",
    "#             self._x_first_deriv(t),\n",
    "#         ])\n",
    "\n",
    "        return np.array([\n",
    "            self.big_omega,\n",
    "#             t,\n",
    "            self.m,\n",
    "            self.delta,\n",
    "#             self.omega_0,\n",
    "#             self._x(t),\n",
    "#             self._x_first_deriv(t),\n",
    "        ])\n",
    "    \n",
    "    def _randomize_t(self):\n",
    "#         self.t = np.random.uniform(self.t_min, self.t_max)\n",
    "        t_space = np.arange(10)\n",
    "        self.t = np.random.choice(t_space)\n",
    "        \n",
    "    def _big_b_model(self, m, delta, big_omega):\n",
    "        omega_0_sqr = self.k / m\n",
    "        f_0 = self.big_f_0 / m\n",
    "        \n",
    "        res = (omega_0_sqr**2 - big_omega**2)**2\n",
    "        res += 4 * delta**2 * big_omega**2\n",
    "        res = f_0 / res**0.5\n",
    "        return res\n",
    "    \n",
    "    def _theta_model(self, m, delta, big_omega):\n",
    "        omega_0_sqr = self.k / m\n",
    "        \n",
    "        res = 2 * delta * big_omega\n",
    "        res /= omega_0_sqr - big_omega**2\n",
    "        return res\n",
    "\n",
    "    def step(self, action):\n",
    "\n",
    "        # state\n",
    "        self.i += 1\n",
    "\n",
    "        # reward\n",
    "        m_, delta_, big_omega_ = tuple(action)\n",
    "        big_b_ = self._big_b_model(m_, delta_, big_omega_)\n",
    "        theta_ = self._theta_model(m_, delta_, big_omega_)\n",
    "        \n",
    "        reward = 0\n",
    "        reward -= (self.big_b - big_b_) ** 2\n",
    "        reward -= (self.theta - theta_) ** 2\n",
    "\n",
    "        # done\n",
    "        done = self.i == self.n_steps\n",
    "        \n",
    "        # info\n",
    "        info = {\"x_model\": big_b_ * np.cos(big_omega_ * self.t - theta_)}\n",
    "        \n",
    "        # obs\n",
    "        self._randomize_t()\n",
    "        obs = self._dc_input()\n",
    "\n",
    "        return obs, reward, done, info\n",
    "    \n",
    "    def reset(self):\n",
    "        self.__init__(**self.initial_params)\n",
    "        self._randomize_t()\n",
    "        return self._dc_input()\n",
    "    \n",
    "    def get_seq_x(self, t_space):\n",
    "        return [self._x(t) for t in t_space]\n",
    "    \n",
    "    def get_seq_states(self, t_space):\n",
    "        return np.array([self._dc_input(t) for t in t_space])\n",
    "    \n",
    "    def render(self):\n",
    "        pass\n",
    "\n",
    "#     @property\n",
    "#     def observation_space(self):\n",
    "#         return self.observation_space\n",
    "    \n",
    "#     @property\n",
    "#     def action_space(self):\n",
    "#         \n",
    "#         return self.action_space"
   ]
  },
  {
   "cell_type": "code",
   "execution_count": 4,
   "metadata": {
    "scrolled": true
   },
   "outputs": [],
   "source": [
    "env = PendulumEnv()\n",
    "o, r, d, _ = env.step([env.m, env.delta, env.big_omega])\n",
    "# TODO: если поменять, например, на big_b=10 или theta=10, то assert не работает\n",
    "assert np.isclose(r, 0, atol=1e-3)\n",
    "o, r, d, _ = env.step([env.m, env.delta, env.big_omega + 1])\n",
    "assert not np.isclose(r, 0, atol=1e-3)"
   ]
  },
  {
   "cell_type": "code",
   "execution_count": 5,
   "metadata": {},
   "outputs": [
    {
     "data": {
      "text/plain": [
       "(array([1.  , 1.  , 0.01]),\n",
       " -0.8268730489547234,\n",
       " False,\n",
       " {'x_model': -0.09022931647631216})"
      ]
     },
     "execution_count": 5,
     "metadata": {},
     "output_type": "execute_result"
    }
   ],
   "source": [
    "env.step(np.array([env.m + 10, env.delta, env.big_omega]))"
   ]
  },
  {
   "cell_type": "code",
   "execution_count": 6,
   "metadata": {},
   "outputs": [
    {
     "data": {
      "image/png": "[encoded data removed]",
      "text/plain": [
       "<Figure size 432x288 with 1 Axes>"
      ]
     },
     "metadata": {
      "needs_background": "light"
     },
     "output_type": "display_data"
    }
   ],
   "source": [
    "env.reset()\n",
    "t_space = np.arange(100) / 10\n",
    "points = [env._system_model(env.m, env.delta, env.big_omega, t) for t in t_space]\n",
    "# system\n",
    "plt.plot(t_space, env.get_seq_x(t_space))\n",
    "# model\n",
    "plt.plot(t_space, points)\n",
    "plt.show()"
   ]
  },
  {
   "cell_type": "markdown",
   "metadata": {},
   "source": [
    "# CE\n",
    "\n",
    "from https://github.com/udacity/deep-reinforcement-learning/blob/master/cross-entropy/CEM.ipynb"
   ]
  },
  {
   "cell_type": "code",
   "execution_count": 7,
   "metadata": {},
   "outputs": [],
   "source": [
    "import gym\n",
    "import math\n",
    "import numpy as np\n",
    "from collections import deque\n",
    "import matplotlib.pyplot as plt\n",
    "%matplotlib inline\n",
    "\n",
    "import torch\n",
    "import torch.nn as nn\n",
    "import torch.nn.functional as F\n",
    "from torch.autograd import Variable"
   ]
  },
  {
   "cell_type": "code",
   "execution_count": 8,
   "metadata": {},
   "outputs": [
    {
     "name": "stdout",
     "output_type": "stream",
     "text": [
      "observation space: Box(3,)\n",
      "action space: Box(3,)\n",
      "  - low: [ 0.  -2.  -0.1]\n",
      "  - high: [10.   2.   0.1]\n"
     ]
    },
    {
     "name": "stderr",
     "output_type": "stream",
     "text": [
      "/home/dev/anaconda3/lib/python3.7/site-packages/gym/logger.py:30: UserWarning: \u001b[33mWARN: Could not seed environment <PendulumEnv instance>\u001b[0m\n",
      "  warnings.warn(colorize('%s: %s'%('WARN', msg % args), 'yellow'))\n"
     ]
    }
   ],
   "source": [
    "device = torch.device(\"cuda:0\" if torch.cuda.is_available() else \"cpu\")\n",
    "\n",
    "# env = gym.make('MountainCarContinuous-v0')\n",
    "env.seed(101)\n",
    "np.random.seed(101)\n",
    "\n",
    "print('observation space:', env.observation_space)\n",
    "print('action space:', env.action_space)\n",
    "print('  - low:', env.action_space.low)\n",
    "print('  - high:', env.action_space.high)\n",
    "\n",
    "class Agent(nn.Module):\n",
    "    def __init__(self, env, h_size=16):\n",
    "        super(Agent, self).__init__()\n",
    "        self.env = env\n",
    "        # state, hidden layer, action sizes\n",
    "        self.s_size = env.observation_space.shape[0]\n",
    "        self.h_size = h_size\n",
    "        self.a_size = env.action_space.shape[0]\n",
    "        # define layers\n",
    "        self.fc1 = nn.Linear(self.s_size, self.h_size)\n",
    "        self.fc2 = nn.Linear(self.h_size, self.a_size)\n",
    "        \n",
    "    def set_weights(self, weights):\n",
    "        s_size = self.s_size\n",
    "        h_size = self.h_size\n",
    "        a_size = self.a_size\n",
    "        # separate the weights for each layer\n",
    "        fc1_end = (s_size*h_size)+h_size\n",
    "        fc1_W = torch.from_numpy(weights[:s_size*h_size].reshape(s_size, h_size))\n",
    "        fc1_b = torch.from_numpy(weights[s_size*h_size:fc1_end])\n",
    "        fc2_W = torch.from_numpy(weights[fc1_end:fc1_end+(h_size*a_size)].reshape(h_size, a_size))\n",
    "        fc2_b = torch.from_numpy(weights[fc1_end+(h_size*a_size):])\n",
    "        # set the weights for each layer\n",
    "        self.fc1.weight.data.copy_(fc1_W.view_as(self.fc1.weight.data))\n",
    "        self.fc1.bias.data.copy_(fc1_b.view_as(self.fc1.bias.data))\n",
    "        self.fc2.weight.data.copy_(fc2_W.view_as(self.fc2.weight.data))\n",
    "        self.fc2.bias.data.copy_(fc2_b.view_as(self.fc2.bias.data))\n",
    "    \n",
    "    def get_weights_dim(self):\n",
    "        return (self.s_size+1)*self.h_size + (self.h_size+1)*self.a_size\n",
    "        \n",
    "    def forward(self, x):\n",
    "        x = F.relu(self.fc1(x))\n",
    "        x = F.tanh(self.fc2(x))\n",
    "        return x.cpu().data\n",
    "        \n",
    "    def evaluate(self, weights, gamma=1.0, max_t=5000):\n",
    "        self.set_weights(weights)\n",
    "        episode_return = 0.0\n",
    "        state = self.env.reset()\n",
    "        for t in range(max_t):\n",
    "            state = torch.from_numpy(state).float().to(device)\n",
    "            action = self.forward(state)\n",
    "            state, reward, done, _ = self.env.step(action)\n",
    "            episode_return += reward * math.pow(gamma, t)\n",
    "            if done:\n",
    "                break\n",
    "        return episode_return\n",
    "    \n",
    "agent = Agent(env).to(device)"
   ]
  },
  {
   "cell_type": "code",
   "execution_count": 9,
   "metadata": {},
   "outputs": [
    {
     "name": "stderr",
     "output_type": "stream",
     "text": [
      "/home/dev/anaconda3/lib/python3.7/site-packages/torch/nn/functional.py:1320: UserWarning: nn.functional.tanh is deprecated. Use torch.tanh instead.\n",
      "  warnings.warn(\"nn.functional.tanh is deprecated. Use torch.tanh instead.\")\n"
     ]
    },
    {
     "name": "stdout",
     "output_type": "stream",
     "text": [
      "Episode 10\tAverage Score: -134.30\n",
      "action:\n",
      "Episode 20\tAverage Score: -152.61\n",
      "action:\n",
      "Episode 30\tAverage Score: -153.24\n",
      "action:\n",
      "Episode 40\tAverage Score: -177.18\n",
      "action:\n",
      "Episode 50\tAverage Score: -186.65\n",
      "action:\n",
      "Episode 60\tAverage Score: -175.52\n",
      "action:\n",
      "Episode 70\tAverage Score: -156.24\n",
      "action:\n",
      "Episode 80\tAverage Score: -142.57\n",
      "action:\n",
      "Episode 90\tAverage Score: -130.04\n",
      "action:\n",
      "Episode 100\tAverage Score: -118.85\n",
      "action:\n"
     ]
    },
    {
     "data": {
      "image/png": "[encoded data removed]",
      "text/plain": [
       "<Figure size 432x288 with 1 Axes>"
      ]
     },
     "metadata": {
      "needs_background": "light"
     },
     "output_type": "display_data"
    }
   ],
   "source": [
    "def cem(n_iterations=100, max_t=1000, gamma=1.0, print_every=10, pop_size=50, elite_frac=0.2, sigma=0.5):\n",
    "    \"\"\"PyTorch implementation of the cross-entropy method.\n",
    "        \n",
    "    Params\n",
    "    ======\n",
    "        n_iterations (int): maximum number of training iterations\n",
    "        max_t (int): maximum number of timesteps per episode\n",
    "        gamma (float): discount rate\n",
    "        print_every (int): how often to print average score (over last 100 episodes)\n",
    "        pop_size (int): size of population at each iteration\n",
    "        elite_frac (float): percentage of top performers to use in update\n",
    "        sigma (float): standard deviation of additive noise\n",
    "    \"\"\"\n",
    "    n_elite=int(pop_size*elite_frac)\n",
    "\n",
    "    scores_deque = deque(maxlen=100)\n",
    "    scores = []\n",
    "    best_weight = sigma*np.random.randn(agent.get_weights_dim())\n",
    "\n",
    "    for i_iteration in range(1, n_iterations+1):\n",
    "        weights_pop = [best_weight + (sigma*np.random.randn(agent.get_weights_dim())) for i in range(pop_size)]\n",
    "        rewards = np.array([agent.evaluate(weights, gamma, max_t) for weights in weights_pop])\n",
    "\n",
    "        elite_idxs = rewards.argsort()[-n_elite:]\n",
    "        elite_weights = [weights_pop[i] for i in elite_idxs]\n",
    "        best_weight = np.array(elite_weights).mean(axis=0)\n",
    "\n",
    "        reward = agent.evaluate(best_weight, gamma=1.0)\n",
    "        scores_deque.append(reward)\n",
    "        scores.append(reward)\n",
    "        \n",
    "        torch.save(agent.state_dict(), 'checkpoint.pth')\n",
    "        \n",
    "        if i_iteration % print_every == 0:\n",
    "            print('Episode {}\\tAverage Score: {:.2f}'.format(i_iteration, np.mean(scores_deque)))\n",
    "            print('action:', )\n",
    "\n",
    "        if np.mean(scores_deque)>=90.0:\n",
    "            print('\\nEnvironment solved in {:d} iterations!\\tAverage Score: {:.2f}'.format(i_iteration-100, np.mean(scores_deque)))\n",
    "            break\n",
    "    return scores\n",
    "\n",
    "scores = cem()\n",
    "\n",
    "# plot the scores\n",
    "fig = plt.figure()\n",
    "ax = fig.add_subplot(111)\n",
    "plt.plot(np.arange(1, len(scores)+1), scores)\n",
    "plt.ylabel('Score')\n",
    "plt.xlabel('Episode #')\n",
    "plt.show()"
   ]
  },
  {
   "cell_type": "code",
   "execution_count": 10,
   "metadata": {},
   "outputs": [],
   "source": [
    "# load the weights from file\n",
    "agent.load_state_dict(torch.load('checkpoint.pth'))\n",
    "\n",
    "state = env.reset()\n",
    "while True:\n",
    "    state = torch.from_numpy(state).float().to(device)\n",
    "    with torch.no_grad():\n",
    "        action = agent(state)\n",
    "    env.render()\n",
    "    next_state, reward, done, _ = env.step(action)\n",
    "    state = next_state\n",
    "    if done:\n",
    "        break\n",
    "\n",
    "env.close()"
   ]
  },
  {
   "cell_type": "code",
   "execution_count": 11,
   "metadata": {},
   "outputs": [
    {
     "name": "stdout",
     "output_type": "stream",
     "text": [
      "states\n",
      " [[1.   1.   0.01]\n",
      " [1.   1.   0.01]\n",
      " [1.   1.   0.01]\n",
      " [1.   1.   0.01]\n",
      " [1.   1.   0.01]\n",
      " [1.   1.   0.01]\n",
      " [1.   1.   0.01]\n",
      " [1.   1.   0.01]\n",
      " [1.   1.   0.01]\n",
      " [1.   1.   0.01]]\n",
      "actions\n",
      " [tensor([ 1.0000, -0.3597, -0.9961]), tensor([ 1.0000, -0.3597, -0.9961]), tensor([ 1.0000, -0.3597, -0.9961]), tensor([ 1.0000, -0.3597, -0.9961]), tensor([ 1.0000, -0.3597, -0.9961]), tensor([ 1.0000, -0.3597, -0.9961]), tensor([ 1.0000, -0.3597, -0.9961]), tensor([ 1.0000, -0.3597, -0.9961]), tensor([ 1.0000, -0.3597, -0.9961]), tensor([ 1.0000, -0.3597, -0.9961])]\n"
     ]
    },
    {
     "data": {
      "image/png": "[encoded data removed]",
      "text/plain": [
       "<Figure size 432x288 with 1 Axes>"
      ]
     },
     "metadata": {
      "needs_background": "light"
     },
     "output_type": "display_data"
    }
   ],
   "source": [
    "env.reset()\n",
    "t_space = np.arange(10)#, step=0.1)\n",
    "expected_points = env.get_seq_x(t_space)\n",
    "states = env.get_seq_states(t_space)\n",
    "actions = []\n",
    "for s in states:\n",
    "    state = torch.from_numpy(s).float().to(device)\n",
    "    with torch.no_grad():\n",
    "        action = agent(state)\n",
    "        actions.append(action)\n",
    "print(\"states\\n\", states)\n",
    "print(\"actions\\n\", actions)\n",
    "points = [env._system_model(a[0], a[1], a[2], t) for a, t in zip(actions, t_space)]\n",
    "\n",
    "\n",
    "\n",
    "plt.plot(t_space, expected_points)\n",
    "plt.plot(t_space, points)\n",
    "plt.show()"
   ]
  },
  {
   "cell_type": "code",
   "execution_count": null,
   "metadata": {},
   "outputs": [],
   "source": []
  },
  {
   "cell_type": "code",
   "execution_count": null,
   "metadata": {},
   "outputs": [],
   "source": []
  },
  {
   "cell_type": "code",
   "execution_count": null,
   "metadata": {},
   "outputs": [],
   "source": []
  }
 ],
 "metadata": {
  "kernelspec": {
   "display_name": "Python 3",
   "language": "python",
   "name": "python3"
  },
  "language_info": {
   "codemirror_mode": {
    "name": "ipython",
    "version": 3
   },
   "file_extension": ".py",
   "mimetype": "text/x-python",
   "name": "python",
   "nbconvert_exporter": "python",
   "pygments_lexer": "ipython3",
   "version": "3.7.3"
  }
 },
 "nbformat": 4,
 "nbformat_minor": 2
}
