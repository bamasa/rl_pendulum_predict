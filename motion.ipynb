{
 "cells": [
  {
   "cell_type": "markdown",
   "metadata": {},
   "source": [
    "# Идея\n",
    "\n",
    "$$F(t) = m \\cdot x'' + 2 \\cdot m \\cdot \\delta \\cdot x' + w_0^2 \\cdot m \\cdot x $$\n",
    "\n",
    "где F(t) — сила(пусть пока известная и константная, например $sin(\\Omega t)$.\n",
    "\n",
    "У такого маятника решение описано [тут](https://mipt.ru/education/chair/physics/S_I/method/Meh_col.pdf) в части 3.3.\n",
    "\n",
    "Пусть мы знаем фазу и амплитуду реальной системы (формула 31 на стр. 25) и мы хотим настроить параметры $\\delta$ и $m$ так чтобы они совпадали для нашей системы и симулятора.\n",
    "\n",
    "Тогда контроллер принимает следующие вещи: ($\\Omega$, $t$, $m$, $\\delta$, $w_0$, $x$, $x'$), а выдаёт ($m$, $\\delta$), которые бы минимизировали разницу фазы и амплитуды между реальной системой и симулятором."
   ]
  },
  {
   "cell_type": "code",
   "execution_count": 3,
   "metadata": {},
   "outputs": [],
   "source": [
    "%matplotlib inline\n",
    "import numpy as np, matplotlib.pyplot as plt, glob, os\n",
    "import random\n",
    "import torch\n",
    "from collections import deque\n",
    "\n",
    "import gym\n",
    "from gym import error, spaces, utils\n",
    "from gym.utils import seeding"
   ]
  },
  {
   "cell_type": "code",
   "execution_count": 4,
   "metadata": {},
   "outputs": [],
   "source": [
    "from ddpg_agent import Agent"
   ]
  },
  {
   "cell_type": "markdown",
   "metadata": {},
   "source": [
    "### Env"
   ]
  },
  {
   "cell_type": "code",
   "execution_count": 39,
   "metadata": {},
   "outputs": [],
   "source": [
    "# откуда взять f_0 в ф. 29 ?\n",
    "# почему параметры можели меняются?\n",
    "\n",
    "\n",
    "class PendulumEnv(gym.Env):\n",
    "    def __init__(self, big_b=1, big_omega=1, theta=0,\n",
    "                 m=1, k=0.1, beta=0.02, big_f_0=1,\n",
    "                 n_steps=100, t_min=0, t_max=10):\n",
    "        \"\"\"\n",
    "        Args:\n",
    "            big_b (float): амплитуда.\n",
    "            big_omega (float): частота.\n",
    "            theta (float): фаза.\n",
    "            m (float): масса грузика.\n",
    "            k (float): жесткость пружины. \n",
    "            beta (float): коэф сопротивления среды.\n",
    "            big_f_0 (float): ????.\n",
    "            n_steps (int): количество шагов до завершения среды.\n",
    "            t_min, t_max (float): min and max time.\n",
    "        \"\"\"\n",
    "        \n",
    "        # init\n",
    "        self.initial_params = locals().copy()\n",
    "        del self.initial_params['self']\n",
    "        \n",
    "        # system params\n",
    "        self.big_b = big_b\n",
    "        self.big_omega = big_omega\n",
    "        self.theta = theta\n",
    "        self.m = m\n",
    "        self.k = k\n",
    "        self.beta = beta\n",
    "        self.big_f_0 = big_f_0\n",
    "        \n",
    "        self.delta = self.beta / (2 * self.m)\n",
    "        self.omega_0 = self.k / self.m\n",
    "        \n",
    "        # RL params\n",
    "        self.n_steps = n_steps\n",
    "        self.t_min, self.t_max = t_min, t_max\n",
    "        self._randomize_t()\n",
    "        self.i = 0\n",
    "        \n",
    "    def _system(self, t):\n",
    "        \"\"\"Returns the real system position (f.31).\"\"\"\n",
    "        return self.big_b * np.cos(self.big_omega * t - self.theta)\n",
    "    \n",
    "    def _x(self, t):\n",
    "        return self._system(t)\n",
    "    \n",
    "    def _x_first_deriv(self, t):\n",
    "        return - self.big_b * self.big_omega * np.sin(self.big_omega * t - self.theta)\n",
    "    \n",
    "    def _x_second_deriv(self, t):\n",
    "        return - self.big_b * (self.big_omega**2) * np.cos(self.big_omega * t - self.theta)\n",
    "    \n",
    "#     def system_model(self, t, m, delta):\n",
    "#         \"\"\"Returns the model position.\"\"\"\n",
    "#         pass\n",
    "    \n",
    "    def _dc_input(self):\n",
    "        return np.array([\n",
    "            self.big_omega,\n",
    "            self.t,\n",
    "            self.m,\n",
    "            self.delta,\n",
    "            self.omega_0,\n",
    "            self._x(self.t),\n",
    "            self._x_first_deriv(self.t),\n",
    "        ])\n",
    "    \n",
    "    def _randomize_t(self):\n",
    "        self.t = np.random.uniform(self.t_min, self.t_max)\n",
    "        \n",
    "    def _big_b_model(self, m, delta, big_omega):\n",
    "        omega_0_sqr = self.k / m\n",
    "        f_0 = self.big_f_0 / m\n",
    "        \n",
    "        res = (omega_0_sqr**2 - big_omega**2)**2\n",
    "        res += 4 * delta**2 * big_omega**2\n",
    "        res = f_0 / res**0.5\n",
    "        return res\n",
    "    \n",
    "    def _theta_model(self, m, delta, big_omega):\n",
    "        omega_0_sqr = self.k / m\n",
    "        \n",
    "        res = 2 * delta * big_omega\n",
    "        res /= omega_0_sqr - big_omega**2\n",
    "        return res\n",
    "\n",
    "    def step(self, action):\n",
    "\n",
    "        # state\n",
    "        self.i += 1\n",
    "\n",
    "        # reward\n",
    "        m_, delta_, big_omega_ = tuple(action)\n",
    "        \n",
    "        reward = 0\n",
    "        reward -= (self.big_b - self._big_b_model(m_, delta_, big_omega_)) ** 2\n",
    "        reward -= (self.theta - self._theta_model(m_, delta_, big_omega_)) ** 2\n",
    "\n",
    "        # done\n",
    "        done = self.i == self.n_steps\n",
    "        \n",
    "        # info\n",
    "        info = {}\n",
    "        \n",
    "        # obs\n",
    "        self._randomize_t()\n",
    "        obs = self._dc_input()\n",
    "\n",
    "        return obs, reward, done, info\n",
    "    \n",
    "    def reset(self):\n",
    "        self.__init__(**self.initial_params)\n",
    "        self._randomize_t()\n",
    "        return self._dc_input()\n",
    "\n",
    "    @property\n",
    "    def observation_space(self):\n",
    "        return spaces.Box(low=-100, high=100, shape=(3,), dtype=np.float32)\n",
    "\n",
    "    @property\n",
    "    def action_space(self):\n",
    "        # m, delta и omega\n",
    "        return spaces.Box(low=-100, high=100, shape=(3,), dtype=np.float32)\n",
    "\n"
   ]
  },
  {
   "cell_type": "code",
   "execution_count": 40,
   "metadata": {
    "scrolled": true
   },
   "outputs": [],
   "source": [
    "env = PendulumEnv()\n",
    "o, r, d, _ = env.step([env.m, env.delta, env.big_omega])\n",
    "assert np.isclose(r, 0, atol=1e-3)\n",
    "o, r, d, _ = env.step([env.m, env.delta, env.big_omega + 1])\n",
    "assert not np.isclose(r, 0, atol=1e-3)"
   ]
  },
  {
   "cell_type": "code",
   "execution_count": 42,
   "metadata": {},
   "outputs": [
    {
     "data": {
      "image/png": "[encoded data removed]",
      "text/plain": [
       "<Figure size 432x288 with 1 Axes>"
      ]
     },
     "metadata": {
      "needs_background": "light"
     },
     "output_type": "display_data"
    }
   ],
   "source": [
    "env.reset()\n",
    "t_list = np.arange(100) / 10\n",
    "x_list = []\n",
    "for t in t_list:\n",
    "    x_list.append(env._x(t))\n",
    "plt.plot(t_list, x_list)\n",
    "plt.show()"
   ]
  },
  {
   "cell_type": "code",
   "execution_count": null,
   "metadata": {},
   "outputs": [],
   "source": []
  }
 ],
 "metadata": {
  "kernelspec": {
   "display_name": "Python 3",
   "language": "python",
   "name": "python3"
  },
  "language_info": {
   "codemirror_mode": {
    "name": "ipython",
    "version": 3
   },
   "file_extension": ".py",
   "mimetype": "text/x-python",
   "name": "python",
   "nbconvert_exporter": "python",
   "pygments_lexer": "ipython3",
   "version": "3.7.1"
  }
 },
 "nbformat": 4,
 "nbformat_minor": 2
}
